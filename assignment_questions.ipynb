{
 "cells": [
  {
   "cell_type": "code",
   "execution_count": null,
   "id": "5e835b37",
   "metadata": {},
   "outputs": [
    {
     "name": "stdout",
     "output_type": "stream",
     "text": [
      "2 1\n"
     ]
    }
   ],
   "source": [
    "#1.\n",
    "def compareTriplets(a, b):\n",
    "    bobby = 0\n",
    "    sai = 0\n",
    "    \n",
    "    for i in range(3):\n",
    "        if a[i] > b[i]:\n",
    "            bobby += 1\n",
    "        elif a[i] < b[i]:\n",
    "            sai += 1\n",
    "    \n",
    "    return [bobby,sai]\n",
    "\n",
    "\n",
    "if __name__ == '__main__':\n",
    "    # Read input\n",
    "    a = list(map(int, input().split()))\n",
    "    b = list(map(int, input().split()))\n",
    "    \n",
    "    # Compare\n",
    "    result = compareTriplets(a, b)\n",
    "    \n",
    "    # Print output in the required format\n",
    "    print(*result)\n"
   ]
  },
  {
   "cell_type": "code",
   "execution_count": null,
   "metadata": {},
   "outputs": [
    {
     "name": "stdout",
     "output_type": "stream",
     "text": [
      "15\n"
     ]
    }
   ],
   "source": [
    "#2.\n",
    "def diagonalDifference(arr):\n",
    "    n = len(arr)\n",
    "    left_to_right = 0\n",
    "    right_to_left = 0\n",
    "    for i in range(n):\n",
    "        left_to_right += arr[i][i]\n",
    "        right_to_left += arr[i][n - i - 1]\n",
    "    return abs(left_to_right - right_to_left)\n",
    "\n",
    "if __name__ == '__main__':\n",
    "    n = int(input())\n",
    "    arr = [list(map(int, input().split())) for _ in range(n)]\n",
    "    print(diagonalDifference(arr))\n"
   ]
  },
  {
   "cell_type": "code",
   "execution_count": null,
   "id": "271df155",
   "metadata": {},
   "outputs": [
    {
     "name": "stdout",
     "output_type": "stream",
     "text": [
      "     #\n",
      "    ##\n",
      "   ###\n",
      "  ####\n",
      " #####\n",
      "######\n"
     ]
    }
   ],
   "source": [
    "#3.\n",
    "\n",
    "def staircase(n):\n",
    "    for i in range(1, n + 1):\n",
    "        print(\" \" * (n - i) + \"#\" * i)\n",
    "\n",
    "if __name__ == '__main__':\n",
    "    n = int(input().strip())\n",
    "    staircase(n)\n"
   ]
  },
  {
   "cell_type": "code",
   "execution_count": null,
   "id": "e1ff0894",
   "metadata": {},
   "outputs": [
    {
     "name": "stdout",
     "output_type": "stream",
     "text": [
      "2\n"
     ]
    }
   ],
   "source": [
    "#4.\n",
    "\n",
    "def birthdayCakeCandles(candles):\n",
    "    tallest = max(candles)       # Find the tallest candle\n",
    "    return candles.count(tallest)  # Count how many candles have this height\n",
    "\n",
    "if __name__ == '__main__':\n",
    "    candles_count = int(input().strip())\n",
    "    candles = list(map(int, input().rstrip().split()))\n",
    "    result = birthdayCakeCandles(candles)\n",
    "    print(result)\n"
   ]
  },
  {
   "cell_type": "code",
   "execution_count": null,
   "id": "6a0956fb",
   "metadata": {},
   "outputs": [
    {
     "name": "stdout",
     "output_type": "stream",
     "text": [
      "19:05:45\n"
     ]
    }
   ],
   "source": [
    "#5.\n",
    "def timeConversion(s):\n",
    "    # Extract hour, minute, second, and period (AM/PM)\n",
    "    hour = int(s[:2])\n",
    "    minute = s[3:5]\n",
    "    second = s[6:8]\n",
    "    period = s[8:]  # 'AM' or 'PM'\n",
    "    \n",
    "    # Convert hour based on AM/PM rules\n",
    "    if period == \"AM\":\n",
    "        if hour == 12:\n",
    "            hour = 0  # 12AM -> 00\n",
    "    else:  # PM\n",
    "        if hour != 12:\n",
    "            hour += 12  # Add 12 for PM times except 12PM\n",
    "    \n",
    "    # Format hour to always be 2 digits\n",
    "    return f\"{hour:02d}:{minute}:{second}\"\n",
    "\n",
    "\n",
    "if __name__ == '__main__':\n",
    "    s = input().strip()\n",
    "    result = timeConversion(s)\n",
    "    print(result)\n"
   ]
  },
  {
   "cell_type": "code",
   "execution_count": 1,
   "id": "39b58bd4",
   "metadata": {},
   "outputs": [
    {
     "name": "stdout",
     "output_type": "stream",
     "text": [
      "4\n"
     ]
    }
   ],
   "source": [
    "#6.\n",
    "import math\n",
    "\n",
    "# Read input\n",
    "n, m, a = map(int, input().split())\n",
    "\n",
    "# Calculate how many flagstones needed along each side\n",
    "flagstones_length = math.ceil(n / a)\n",
    "flagstones_width = math.ceil(m / a)\n",
    "\n",
    "# Total flagstones\n",
    "total_flagstones = flagstones_length * flagstones_width\n",
    "\n",
    "print(total_flagstones)\n"
   ]
  },
  {
   "cell_type": "code",
   "execution_count": null,
   "id": "d15cd94f",
   "metadata": {},
   "outputs": [
    {
     "name": "stdout",
     "output_type": "stream",
     "text": [
      "word\n",
      "l10n\n",
      "i18n\n",
      "p43s\n"
     ]
    }
   ],
   "source": [
    "#7.\n",
    "n = int(input())\n",
    "\n",
    "# Process each word\n",
    "for _ in range(n):\n",
    "    word = input().strip()\n",
    "    if len(word) > 10:\n",
    "        # Abbreviate long word\n",
    "        abbreviated = word[0] + str(len(word) - 2) + word[-1]\n",
    "        print(abbreviated)\n",
    "    else:\n",
    "        # Keep short word as is\n",
    "        print(word)\n"
   ]
  },
  {
   "cell_type": "code",
   "execution_count": 2,
   "id": "af0c3774",
   "metadata": {},
   "outputs": [
    {
     "name": "stdout",
     "output_type": "stream",
     "text": [
      "6\n"
     ]
    }
   ],
   "source": [
    "#8.\n",
    "\n",
    "n, k = map(int, input().split())\n",
    "scores = list(map(int, input().split()))\n",
    "\n",
    "# Score of the k-th place (1-indexed)\n",
    "k_score = scores[k - 1]\n",
    "\n",
    "# Count participants who advance\n",
    "advancers = sum(1 for score in scores if score >= k_score and score > 0)\n",
    "\n",
    "print(advancers)\n"
   ]
  },
  {
   "cell_type": "code",
   "execution_count": null,
   "id": "9a4cb187",
   "metadata": {},
   "outputs": [
    {
     "ename": "ValueError",
     "evalue": "invalid literal for int() with base 10: '++X'",
     "output_type": "error",
     "traceback": [
      "\u001b[31m---------------------------------------------------------------------------\u001b[39m",
      "\u001b[31mValueError\u001b[39m                                Traceback (most recent call last)",
      "\u001b[36mCell\u001b[39m\u001b[36m \u001b[39m\u001b[32mIn[27]\u001b[39m\u001b[32m, line 1\u001b[39m\n\u001b[32m----> \u001b[39m\u001b[32m1\u001b[39m n, k = \u001b[38;5;28mmap\u001b[39m(\u001b[38;5;28mint\u001b[39m, \u001b[38;5;28minput\u001b[39m().split())\n\u001b[32m      2\u001b[39m scores = \u001b[38;5;28mlist\u001b[39m(\u001b[38;5;28mmap\u001b[39m(\u001b[38;5;28mint\u001b[39m, \u001b[38;5;28minput\u001b[39m().split()))\n\u001b[32m      4\u001b[39m \u001b[38;5;66;03m# Score of the k-th place (1-indexed)\u001b[39;00m\n",
      "\u001b[31mValueError\u001b[39m: invalid literal for int() with base 10: '++X'"
     ]
    }
   ],
   "source": [
    "#9.\n",
    "n, k = map(int, input().split())\n",
    "scores = list(map(int, input().split()))\n",
    "\n",
    "# Score of the k-th place (1-indexed)\n",
    "k_score = scores[k - 1]\n",
    "\n",
    "# Count participants who have score >= k-th place and > 0\n",
    "advancers = sum(1 for score in scores if score >= k_score and score > 0)\n",
    "\n",
    "print(advancers)\n"
   ]
  },
  {
   "cell_type": "code",
   "execution_count": null,
   "id": "007fb201",
   "metadata": {},
   "outputs": [
    {
     "name": "stdout",
     "output_type": "stream",
     "text": [
      "NO\n"
     ]
    }
   ],
   "source": [
    "#10. Read input string\n",
    "players = input().strip()\n",
    "\n",
    "# Check for dangerous situation\n",
    "if \"0000000\" in players or \"1111111\" in players:\n",
    "    print(\"YES\")\n",
    "else:\n",
    "    print(\"NO\")\n"
   ]
  },
  {
   "cell_type": "code",
   "execution_count": null,
   "id": "ebc37dd5",
   "metadata": {},
   "outputs": [],
   "source": []
  }
 ],
 "metadata": {
  "kernelspec": {
   "display_name": "Python 3",
   "language": "python",
   "name": "python3"
  },
  "language_info": {
   "codemirror_mode": {
    "name": "ipython",
    "version": 3
   },
   "file_extension": ".py",
   "mimetype": "text/x-python",
   "name": "python",
   "nbconvert_exporter": "python",
   "pygments_lexer": "ipython3",
   "version": "3.13.2"
  }
 },
 "nbformat": 4,
 "nbformat_minor": 5
}
